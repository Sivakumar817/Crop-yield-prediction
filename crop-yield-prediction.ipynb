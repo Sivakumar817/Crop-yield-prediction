from __future__ import print_function 
import pandas as pd # data analysis 
import numpy as np # linear algebra 
#import libraries for data visualization 
import matplotlib.pyplot as plt 
%matplotlib inline 
import seaborn as sns 
import plotly.graph_objects as go 
import plotly.express as px 
from plotly.subplots import make_subplots 
from sklearn.metrics import classification_report 
from sklearn import metrics 
from sklearn import tree 
from sklearn.model_selection import cross_val_score 
import warnings 
warnings.filterwarnings('ignore') 
crop.info() 
crop.describe() 
crop.columns 
crop['label'].unique() 
crop['label'].value_counts() 
sns.heatmap(crop.isnull(),cmap="coolwarm") 
plt.show() 
plt.figure(figsize=(12,5)) 
plt.subplot(1, 2, 1) 
# sns.distplot(df_setosa['sepal_length'],kde=True,color='green',bins=20,hist_kws={'alpha':0.3}) 
sns.distplot(crop['temperature'],color="red",bins=15,hist_kws={'alpha':0.5}) 
plt.subplot(1, 2, 2) 
sns.distplot(crop['ph'],color="green",bins=15,hist_kws={'alpha':0.5}) 
sns.pairplot(crop,hue = 'label') 
sns.jointplot(x="rainfall",y="humidity",data=crop[(crop['temperature']<40) & 
 (crop['rainfall']>40)],height=10,hue="label") 
sns.set_theme(style="whitegrid") 
fig, ax = plt.subplots(figsize=(30,15)) 
sns.boxplot(x='label',y='ph',data=crop) 
fig, ax = plt.subplots(1, 1, figsize=(15, 9)) 
sns.heatmap(crop.corr(), annot=True,cmap='viridis') 
ax.set(xlabel='features') 
ax.set(ylabel='features') 
plt.title('Correlation between different features', fontsize = 15, c='black') 
plt.show() 
crop_summary = pd.pivot_table(crop,index=['label'],aggfunc='mean') 
crop_summary.head() 
fig = go.Figure() 
fig.add_trace(go.Bar( 
 x=crop_summary.index, 
 y=crop_summary['N'], 
 name='Nitrogen', 
 marker_color='mediumvioletred' 
)) 
fig.add_trace(go.Bar( 
 x=crop_summary.index, 
 y=crop_summary['P'], 
 name='Phosphorous', 
 marker_color='springgreen' 
)) 
fig.add_trace(go.Bar( 
 x=crop_summary.index, 
 y=crop_summary['K'], 
 name='Potash', 
 marker_color='dodgerblue' 
)) 
fig.update_layout(title="N-P-K values comparision between crops", 
 plot_bgcolor='white', 
 barmode='group', 
 xaxis_tickangle=-45) 
fig.show() 
features = crop[['N', 'P','K','temperature', 'humidity', 'ph', 'rainfall']] 
target = crop['label'] 
acc = [] 
model = [] 
from sklearn.model_selection import train_test_split 
x_train, x_test, y_train, y_test = train_test_split(features,target,test_size = 0.2,random_state =2) 
from sklearn.neighbors import KNeighborsClassifier 
knn = KNeighborsClassifier() 
knn.fit(x_train,y_train) 
predicted_values = knn.predict(x_test) 
x = metrics.accuracy_score(y_test, predicted_values) 
acc.append(x) 
model.append('K Nearest Neighbours') 
print("KNN Accuracy is: ", x) 
print(classification_report(y_test,predicted_values)) 
score = cross_val_score(knn,features,target,cv=5) 
print('Cross validation score: ',score) 
#Print Train Accuracy 
knn_train_accuracy = knn.score(x_train,y_train) 
print("knn_train_accuracy = ",knn.score(x_train,y_train)) 
#Print Test Accuracy 
knn_test_accuracy = knn.score(x_test,y_test) 
print("knn_test_accuracy = ",knn.score(x_test,y_test)) 
y_pred = knn.predict(x_test) 
y_true = y_test 
from sklearn.metrics import confusion_matrix 
cm_knn = confusion_matrix(y_true,y_pred) 
f, ax = plt.subplots(figsize=(15,10)) 
sns.heatmap(cm_knn, annot=True, linewidth=0.5, fmt=".0f",cmap='viridis', ax = ax) 
plt.xlabel('Predicted') 
plt.ylabel('Actual') 
plt.title('Predicted vs actual') 
plt.show() 